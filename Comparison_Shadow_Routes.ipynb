{
 "cells": [
  {
   "cell_type": "markdown",
   "metadata": {},
   "source": [
    "# Time Dependent Route Comparison: shadow routes"
   ]
  },
  {
   "cell_type": "code",
   "execution_count": 1,
   "metadata": {},
   "outputs": [],
   "source": [
    "import geopandas as gpd\n",
    "from shapely.geometry import LineString, Point\n",
    "import numpy as np\n",
    "from matplotlib import pyplot as plt\n",
    "from importlib import reload\n",
    "import contextily as ctx\n",
    "from pathlib import Path\n",
    "import pandas as pd\n",
    "import datetime as dt\n",
    "from ipyleaflet import Map, GeoData, basemaps, LayersControl,Icon, LegendControl,ScaleControl, GeoJSON, Choropleth\n",
    "from branca.colormap import linear\n",
    "import json\n",
    "import numpy as np"
   ]
  },
  {
   "cell_type": "code",
   "execution_count": 2,
   "metadata": {},
   "outputs": [],
   "source": [
    "import warnings\n",
    "warnings.filterwarnings(\"ignore\")"
   ]
  },
  {
   "cell_type": "code",
   "execution_count": 3,
   "metadata": {},
   "outputs": [],
   "source": [
    "import ors_evaluation"
   ]
  },
  {
   "cell_type": "code",
   "execution_count": 4,
   "metadata": {},
   "outputs": [],
   "source": [
    "%load_ext autoreload\n",
    "%autoreload 2"
   ]
  },
  {
   "cell_type": "code",
   "execution_count": 5,
   "metadata": {},
   "outputs": [],
   "source": [
    "ors_url = \"https://meingruen.openrouteservice.org/ors/\" "
   ]
  },
  {
   "cell_type": "markdown",
   "metadata": {},
   "source": [
    "### Routing parameters"
   ]
  },
  {
   "cell_type": "code",
   "execution_count": 6,
   "metadata": {},
   "outputs": [],
   "source": [
    "profile = \"foot-walking\""
   ]
  },
  {
   "cell_type": "code",
   "execution_count": 7,
   "metadata": {},
   "outputs": [],
   "source": [
    "start_coords = (51.04387630433032, 13.76028997302245)\n",
    "destination_coords = (51.04619669418911, 13.74123538289695)"
   ]
  },
  {
   "cell_type": "code",
   "execution_count": 8,
   "metadata": {},
   "outputs": [],
   "source": [
    "body_normal = {'coordinates': [start_coords[::-1], destination_coords[::-1]],\n",
    "          'instructions': 'false',\n",
    "          'preference': 'recommended',\n",
    "          \"extra_info\": [\"shadow\"],\n",
    "          \"elevation\": \"true\",\n",
    "          \"continue_straight\": \"true\",\n",
    "          \"options\": {\"avoid_features\": [\"ferries\"], \n",
    "                      \"profile_params\": {\"weightings\": {\n",
    "                          \"steepness_difficulty\":1, \n",
    "                          \"shadow\":0}}}\n",
    "        \n",
    "    }\n",
    "body_shadow = {'coordinates': [start_coords[::-1], destination_coords[::-1]],\n",
    "          'instructions': 'false',\n",
    "          'preference': 'recommended',\n",
    "          \"extra_info\": [\"shadow\"],\n",
    "          \"elevation\": \"true\",\n",
    "          \"continue_straight\": \"true\",\n",
    "          \"options\": {\"avoid_features\": [\"ferries\"], \n",
    "                      \"profile_params\": {\"weightings\": {\n",
    "                          \"steepness_difficulty\":1, \n",
    "                          \"shadow\":1}}}\n",
    "    }"
   ]
  },
  {
   "cell_type": "markdown",
   "metadata": {},
   "source": [
    "### Calculate initial routes"
   ]
  },
  {
   "cell_type": "code",
   "execution_count": 9,
   "metadata": {},
   "outputs": [],
   "source": [
    "route_normal = ors_evaluation.Route(params=body_normal, base_url=ors_url, profile=profile, fmt=\"geojson\")\n",
    "route_shadow = ors_evaluation.Route(params=body_shadow, base_url=ors_url, profile=profile, fmt=\"geojson\")"
   ]
  },
  {
   "cell_type": "code",
   "execution_count": 10,
   "metadata": {
    "code_folding": []
   },
   "outputs": [],
   "source": [
    "def handle_start_change(**kwargs):\n",
    "    global destination_coords\n",
    "    global start_coords\n",
    "    global m\n",
    "    start_coords = kwargs[\"location\"]\n",
    "    \n",
    "    body_normal[\"coordinates\"] = [start_coords[::-1], destination_coords[::-1]]\n",
    "    body_shadow[\"coordinates\"] = [start_coords[::-1], destination_coords[::-1]]\n",
    "\n",
    "    route_normal = ors_evaluation.Route(params=body_normal, base_url=ors_url, profile=profile, fmt=\"geojson\")\n",
    "    route_shadow = ors_evaluation.Route(params=body_shadow, base_url=ors_url, profile=profile, fmt=\"geojson\")\n",
    "    \n",
    "    m.remove_layer(m.layers[-1])\n",
    "    m.remove_layer(m.layers[-1])\n",
    "\n",
    "    route_layer_normal = GeoData(geo_dataframe = route_normal.as_dataframe(),\n",
    "                            name = 'Route Normal', \n",
    "                            style={\"color\": \"red\",\n",
    "                                   \"opacity\": 0.5})\n",
    "    route_layer_shadow = GeoData(geo_dataframe = route_shadow.as_dataframe(),\n",
    "                            name = 'Route Shadow',\n",
    "                           style={\"color\": \"blue\",\n",
    "                                   \"opacity\": 0.5})\n",
    "    m.add_layer(route_layer_normal)\n",
    "    m.add_layer(route_layer_shadow)"
   ]
  },
  {
   "cell_type": "code",
   "execution_count": 11,
   "metadata": {
    "code_folding": []
   },
   "outputs": [],
   "source": [
    "def handle_destination_change(**kwargs):\n",
    "    #route = ors_evaluation.Route(params=body, base_url=ors_normal, profile=profile, fmt=fmt)\n",
    "    global destination_coords\n",
    "    global start_coords\n",
    "    global m\n",
    "    destination_coords = kwargs[\"location\"]\n",
    "    \n",
    "    body_normal[\"coordinates\"] = [start_coords[::-1], destination_coords[::-1]]\n",
    "    body_shadow[\"coordinates\"] = [start_coords[::-1], destination_coords[::-1]]\n",
    "\n",
    "    route_normal = ors_evaluation.Route(params=body_normal, base_url=ors_url, profile=profile, fmt=\"geojson\")\n",
    "    route_shadow = ors_evaluation.Route(params=body_shadow, base_url=ors_url, profile=profile, fmt=\"geojson\")\n",
    "    \n",
    "    m.remove_layer(m.layers[-1])\n",
    "    m.remove_layer(m.layers[-1])\n",
    "\n",
    "    route_layer_normal = GeoData(geo_dataframe = route_normal.as_dataframe(),\n",
    "                            name = 'Route Normal', \n",
    "                            style={\"color\": \"red\",\n",
    "                                   \"opacity\": 0.5})\n",
    "    route_layer_shadow = GeoData(geo_dataframe = route_shadow.as_dataframe(),\n",
    "                            name = 'Route Shadow',\n",
    "                           style={\"color\": \"blue\",\n",
    "                                   \"opacity\": 0.5})\n",
    "    m.add_layer(route_layer_normal)\n",
    "    m.add_layer(route_layer_shadow)"
   ]
  },
  {
   "cell_type": "markdown",
   "metadata": {},
   "source": [
    "### Map showing routes"
   ]
  },
  {
   "cell_type": "markdown",
   "metadata": {},
   "source": [
    "Drag the icons on the map to a different place to recalculate the routes."
   ]
  },
  {
   "cell_type": "code",
   "execution_count": 12,
   "metadata": {},
   "outputs": [],
   "source": [
    "#icon_a = Icon(icon_url='./icons/icons8-marker-a-96.png',icon_size=[25, 30], icon_anchor=[10,25])\n",
    "#icon_b = Icon(icon_url='./icons/icons8-marker-b-96.png',icon_size=[25, 30], icon_anchor=[10,25])"
   ]
  },
  {
   "cell_type": "code",
   "execution_count": 13,
   "metadata": {},
   "outputs": [
    {
     "data": {
      "application/vnd.jupyter.widget-view+json": {
       "model_id": "646896ef2cd144739c4aff2ccdc889ee",
       "version_major": 2,
       "version_minor": 0
      },
      "text/plain": [
       "Map(center=[51.04619669418911, 13.76028997302245], controls=(ZoomControl(options=['position', 'zoom_in_text', …"
      ]
     },
     "metadata": {},
     "output_type": "display_data"
    }
   ],
   "source": [
    "from ipyleaflet import Map, Marker\n",
    "\n",
    "center = (min(start_coords[0], destination_coords[0]) + abs(start_coords[0] - destination_coords[0]), \n",
    "          min(start_coords[1], destination_coords[1]) + abs(start_coords[1] - destination_coords[1]))\n",
    "\n",
    "route_normal = ors_evaluation.Route(params=body_normal, base_url=ors_url, profile=profile, fmt=\"geojson\")\n",
    "route_shadow = ors_evaluation.Route(params=body_shadow, base_url=ors_url, profile=profile, fmt=\"geojson\")\n",
    "\n",
    "m = Map(center=center, zoom=14, scroll_wheel_zoom=True, basemap=basemaps.CartoDB.Positron)\n",
    "\n",
    "start = Marker(location=start_coords, draggable=True)\n",
    "m.add_layer(start);\n",
    "\n",
    "destination = Marker(location=destination_coords, draggable=True)\n",
    "m.add_layer(destination);\n",
    "\n",
    "route_layer_normal = GeoData(geo_dataframe = route_normal.as_dataframe(),\n",
    "                        name = 'Route Normal',\n",
    "                        style={\"color\": \"red\",\n",
    "                               \"opacity\": 0.5})\n",
    "route_layer_shadow = GeoData(geo_dataframe = route_shadow.as_dataframe(),\n",
    "                        name = 'Route Shadow',\n",
    "                       style={\"color\": \"blue\",\n",
    "                               \"opacity\": 0.5})\n",
    "\n",
    "m.add_layer(route_layer_normal)\n",
    "m.add_layer(route_layer_shadow)\n",
    "    \n",
    "start.on_move(handle_start_change)\n",
    "destination.on_move(handle_destination_change)\n",
    "\n",
    "legend = LegendControl({\"Normal route\": \"red\", \"Shadow route\": \"blue\"}, name=\"Legend\", position=\"topright\")\n",
    "m.add_control(legend)\n",
    "\n",
    "m.add_control(ScaleControl(position='bottomleft'))\n",
    "\n",
    "m"
   ]
  },
  {
   "cell_type": "markdown",
   "metadata": {},
   "source": [
    "### Map with color by shadow value"
   ]
  },
  {
   "cell_type": "code",
   "execution_count": 31,
   "metadata": {},
   "outputs": [],
   "source": [
    "color_map = linear.Reds_09"
   ]
  },
  {
   "cell_type": "code",
   "execution_count": 32,
   "metadata": {
    "code_folding": [
     0
    ]
   },
   "outputs": [],
   "source": [
    "def compute_style(feature, colormap, choro_data):\n",
    "    return {\n",
    "        'color': color_map(feature['properties']['shadow_color'])\n",
    "    }"
   ]
  },
  {
   "cell_type": "code",
   "execution_count": 33,
   "metadata": {
    "code_folding": [
     0
    ]
   },
   "outputs": [],
   "source": [
    "def handle_start_change_shadow(**kwargs):\n",
    "    global destination_coords\n",
    "    global start_coords\n",
    "    global m\n",
    "    start_coords = kwargs[\"location\"]\n",
    "    \n",
    "    body_normal[\"coordinates\"] = [start_coords[::-1], destination_coords[::-1]]\n",
    "    body_shadow[\"coordinates\"] = [start_coords[::-1], destination_coords[::-1]]\n",
    "\n",
    "    route_normal = ors_evaluation.Route(params=body_normal, base_url=ors_url, profile=profile, fmt=\"geojson\")\n",
    "    route_shadow = ors_evaluation.Route(params=body_shadow, base_url=ors_url, profile=profile, fmt=\"geojson\")\n",
    "    \n",
    "    m.remove_layer(m.layers[-1])\n",
    "    m.remove_layer(m.layers[-1])\n",
    "\n",
    "    route_normal_df = route_normal.as_dataframe()\n",
    "    route_normal_df[\"idx\"] = route_normal_df.index.astype(\"str\")\n",
    "    route_normal_df[\"shadow_color\"] = rroute_normal_df.shadow / 100.\n",
    "    route_normal_json = json.loads(route_normal_df.to_json())\n",
    "    shadow_values =  dict(zip(route_normal_df['idx'].tolist(), route_normal_df['shadow'].tolist()))\n",
    "\n",
    "    layer1 = Choropleth(\n",
    "        geo_data=route_normal_json,\n",
    "        choro_data=shadow_values,\n",
    "        colormap=linear.YlOrRd_04,\n",
    "        key_on='id'\n",
    "        )\n",
    "    layer1.style_callback=compute_style\n",
    "    m.add_layer(layer1)\n",
    "\n",
    "    route_shadow_df = route_shadow.as_dataframe()\n",
    "    route_shadow_df[\"idx\"] = route_shadow_df.index.astype(\"str\")\n",
    "    route_shadow_df[\"shadow_color\"] = route_shadow_df.shadow / 100.\n",
    "    route_shadow_json = json.loads(route_shadow_df.to_json())\n",
    "    shadow_values =  dict(zip(route_shadow_df['idx'].tolist(), route_shadow_df['shadow'].tolist()))\n",
    "\n",
    "    layer2 = Choropleth(\n",
    "        geo_data=route_shadow_json,\n",
    "        choro_data=shadow_values,\n",
    "        colormap=linear.YlOrRd_04,\n",
    "        key_on='id'\n",
    "        )\n",
    "    layer2.style_callback=compute_style\n",
    "    m.add_layer(layer2)"
   ]
  },
  {
   "cell_type": "code",
   "execution_count": 34,
   "metadata": {
    "code_folding": []
   },
   "outputs": [],
   "source": [
    "def handle_destination_change_shadow(**kwargs):\n",
    "    #route = ors_evaluation.Route(params=body, base_url=ors_normal, profile=profile, fmt=fmt)\n",
    "    global destination_coords\n",
    "    global start_coords\n",
    "    global m\n",
    "    destination_coords = kwargs[\"location\"]\n",
    "    \n",
    "    body_normal[\"coordinates\"] = [start_coords[::-1], destination_coords[::-1]]\n",
    "    body_shadow[\"coordinates\"] = [start_coords[::-1], destination_coords[::-1]]\n",
    "\n",
    "    route_normal = ors_evaluation.Route(params=body_normal, base_url=ors_url, profile=profile, fmt=\"geojson\")\n",
    "    route_shadow = ors_evaluation.Route(params=body_shadow, base_url=ors_url, profile=profile, fmt=\"geojson\")\n",
    "    \n",
    "    m.remove_layer(m.layers[-1])\n",
    "    m.remove_layer(m.layers[-1])\n",
    "\n",
    "    route_normal_df = route_normal.as_dataframe()\n",
    "    route_normal_df[\"idx\"] = route_normal_df.index.astype(\"str\")\n",
    "    route_normal_df[\"shadow_color\"] = route_normal_df.shadow / 100.\n",
    "    route_normal_json = json.loads(route_normal_df.to_json())\n",
    "    shadow_values =  dict(zip(route_normal_df['idx'].tolist(), route_normal_df['shadow'].tolist()))\n",
    "\n",
    "    layer1 = Choropleth(\n",
    "        geo_data=route_normal_json,\n",
    "        choro_data=shadow_values,\n",
    "        colormap=linear.YlOrRd_04,\n",
    "        key_on='id'\n",
    "        )\n",
    "    layer1.style_callback=compute_style\n",
    "    m.add_layer(layer1)\n",
    "\n",
    "    route_shadow_df = route_shadow.as_dataframe()\n",
    "    route_shadow_df[\"idx\"] = route_shadow_df.index.astype(\"str\")\n",
    "    route_shadow_df[\"shadow_color\"] = route_shadow_df.shadow / 100.\n",
    "    route_shadow_json = json.loads(route_shadow_df.to_json())\n",
    "    shadow_values =  dict(zip(route_shadow_df['idx'].tolist(), route_shadow_df['shadow'].tolist()))\n",
    "\n",
    "    layer2 = Choropleth(\n",
    "        geo_data=route_shadow_json,\n",
    "        choro_data=shadow_values,\n",
    "        colormap=linear.YlOrRd_04,\n",
    "        key_on='id'\n",
    "        )\n",
    "    layer2.style_callback=compute_style\n",
    "    m.add_layer(layer2)"
   ]
  },
  {
   "cell_type": "code",
   "execution_count": 35,
   "metadata": {},
   "outputs": [
    {
     "data": {
      "application/vnd.jupyter.widget-view+json": {
       "model_id": "b5baec4252e14883803e4c1adde41a5c",
       "version_major": 2,
       "version_minor": 0
      },
      "text/plain": [
       "Map(center=[51.04619669418911, 13.76028997302245], controls=(ZoomControl(options=['position', 'zoom_in_text', …"
      ]
     },
     "metadata": {},
     "output_type": "display_data"
    }
   ],
   "source": [
    "from ipyleaflet import Map, Marker\n",
    "\n",
    "center = (min(start_coords[0], destination_coords[0]) + abs(start_coords[0] - destination_coords[0]), \n",
    "          min(start_coords[1], destination_coords[1]) + abs(start_coords[1] - destination_coords[1]))\n",
    "\n",
    "route_normal = ors_evaluation.Route(params=body_normal, base_url=ors_url, profile=profile, fmt=\"geojson\")\n",
    "route_shadow = ors_evaluation.Route(params=body_shadow, base_url=ors_url, profile=profile, fmt=\"geojson\")\n",
    "\n",
    "m = Map(center=center, zoom=14, scroll_wheel_zoom=True, basemap=basemaps.CartoDB.Positron)\n",
    "\n",
    "start = Marker(location=start_coords, draggable=True)\n",
    "m.add_layer(start);\n",
    "\n",
    "destination = Marker(location=destination_coords, draggable=True)\n",
    "m.add_layer(destination);\n",
    "\n",
    "route_normal_df = route_normal.as_dataframe()\n",
    "route_normal_df[\"idx\"] = route_normal_df.index.astype(\"str\")\n",
    "route_normal_df[\"shadow_color\"] = route_normal_df.shadow / 100.\n",
    "route_normal_json = json.loads(route_normal_df.to_json())\n",
    "shadow_values =  dict(zip(route_normal_df['idx'].tolist(), route_normal_df['shadow'].tolist()))\n",
    "\n",
    "layer1 = Choropleth(\n",
    "    geo_data=route_normal_json,\n",
    "    choro_data=shadow_values,\n",
    "    colormap=linear.YlOrRd_04,\n",
    "    key_on='id'\n",
    "    )\n",
    "layer1.style_callback=compute_style\n",
    "m.add_layer(layer1)\n",
    "\n",
    "route_shadow_df = route_shadow.as_dataframe()\n",
    "route_shadow_df[\"idx\"] = route_shadow_df.index.astype(\"str\")\n",
    "route_shadow_df[\"shadow_color\"] = route_shadow_df.shadow / 100.\n",
    "route_shadow_json = json.loads(route_shadow_df.to_json())\n",
    "shadow_values =  dict(zip(route_shadow_df['idx'].tolist(), route_shadow_df['shadow'].tolist()))\n",
    "\n",
    "layer2 = Choropleth(\n",
    "    geo_data=route_shadow_json,\n",
    "    choro_data=shadow_values,\n",
    "    colormap=linear.YlOrRd_04,\n",
    "    key_on='id'\n",
    "    )\n",
    "layer2.style_callback=compute_style\n",
    "m.add_layer(layer2)\n",
    "    \n",
    "start.on_move(handle_start_change_shadow)\n",
    "destination.on_move(handle_destination_change_shadow)\n",
    "\n",
    "legend = LegendControl({\"High\": \"red\", \"Low\": \"#f6dfdb\"}, name=\"Solar radiation\", position=\"topright\")\n",
    "m.add_control(legend)\n",
    "\n",
    "m.add_control(ScaleControl(position='bottomleft'))\n",
    "\n",
    "m"
   ]
  },
  {
   "cell_type": "code",
   "execution_count": null,
   "metadata": {},
   "outputs": [],
   "source": []
  },
  {
   "cell_type": "code",
   "execution_count": null,
   "metadata": {},
   "outputs": [],
   "source": []
  }
 ],
 "metadata": {
  "kernelspec": {
   "display_name": "ors-evaluation2",
   "language": "python",
   "name": "ors-evaluation2"
  },
  "language_info": {
   "codemirror_mode": {
    "name": "ipython",
    "version": 3
   },
   "file_extension": ".py",
   "mimetype": "text/x-python",
   "name": "python",
   "nbconvert_exporter": "python",
   "pygments_lexer": "ipython3",
   "version": "3.9.9"
  }
 },
 "nbformat": 4,
 "nbformat_minor": 2
}
